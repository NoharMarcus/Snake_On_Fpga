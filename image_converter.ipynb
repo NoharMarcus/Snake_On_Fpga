{
  "nbformat": 4,
  "nbformat_minor": 0,
  "metadata": {
    "colab": {
      "provenance": [],
      "authorship_tag": "ABX9TyOEbHfVE/EjaJSMm91c2UhM",
      "include_colab_link": true
    },
    "kernelspec": {
      "name": "python3",
      "display_name": "Python 3"
    },
    "language_info": {
      "name": "python"
    }
  },
  "cells": [
    {
      "cell_type": "markdown",
      "metadata": {
        "id": "view-in-github",
        "colab_type": "text"
      },
      "source": [
        "<a href=\"https://colab.research.google.com/github/NoharMarcus/Snake_On_Fpga/blob/main/image_converter.ipynb\" target=\"_parent\"><img src=\"https://colab.research.google.com/assets/colab-badge.svg\" alt=\"Open In Colab\"/></a>"
      ]
    },
    {
      "cell_type": "code",
      "execution_count": null,
      "metadata": {
        "id": "HW2OAlH5MMWG",
        "colab": {
          "base_uri": "https://localhost:8080/"
        },
        "outputId": "b81e43cb-6b91-4073-f7a6-615571c08ecd"
      },
      "outputs": [
        {
          "output_type": "stream",
          "name": "stdout",
          "text": [
            "{\n",
            "{ 12'h000 , 12'h000 , 12'h000 , 12'h000 , 12'h000 , 12'h000 , 12'h000 , 12'h000 , 12'h000 , 12'h000 , 12'h000 , 12'h000 , 12'h000 , 12'h000 , 12'h000 , 12'h000 , 12'h000 , 12'h000 , 12'h000 , 12'h000 , 12'h000 , 12'h000 , 12'h000 , 12'h000 , 12'h000 , 12'h000 , 12'h000 , 12'h000 , 12'h000 , 12'h000 , 12'h000 , 12'h000 },\n",
            "{ 12'h000 , 12'h000 , 12'h000 , 12'h000 , 12'h000 , 12'h000 , 12'h000 , 12'h000 , 12'h000 , 12'h000 , 12'h000 , 12'h000 , 12'h000 , 12'h000 , 12'h000 , 12'h000 , 12'h000 , 12'h000 , 12'h000 , 12'h000 , 12'h000 , 12'h000 , 12'h000 , 12'h000 , 12'h000 , 12'h000 , 12'h000 , 12'h000 , 12'h000 , 12'h000 , 12'h000 , 12'h000 },\n",
            "{ 12'h000 , 12'h000 , 12'h000 , 12'h000 , 12'h000 , 12'h000 , 12'h000 , 12'h000 , 12'h000 , 12'h000 , 12'h000 , 12'h000 , 12'h000 , 12'h000 , 12'h000 , 12'h000 , 12'h000 , 12'h000 , 12'h000 , 12'h000 , 12'h000 , 12'h000 , 12'h000 , 12'h000 , 12'h000 , 12'h000 , 12'h000 , 12'h000 , 12'h000 , 12'h000 , 12'h000 , 12'h000 },\n",
            "{ 12'h000 , 12'h000 , 12'h000 , 12'h000 , 12'h000 , 12'h000 , 12'h000 , 12'h000 , 12'h000 , 12'h000 , 12'h000 , 12'h000 , 12'h000 , 12'h000 , 12'h000 , 12'h000 , 12'h000 , 12'h000 , 12'h000 , 12'h000 , 12'h000 , 12'h000 , 12'h000 , 12'h000 , 12'h000 , 12'h000 , 12'h000 , 12'h000 , 12'h000 , 12'h000 , 12'h000 , 12'h000 },\n",
            "{ 12'h000 , 12'h000 , 12'h000 , 12'h000 , 12'h000 , 12'h000 , 12'h000 , 12'h000 , 12'h000 , 12'h000 , 12'h000 , 12'h000 , 12'h000 , 12'h000 , 12'h000 , 12'h000 , 12'h000 , 12'h000 , 12'h000 , 12'h000 , 12'h000 , 12'h000 , 12'h000 , 12'h000 , 12'h000 , 12'h000 , 12'h000 , 12'h000 , 12'h000 , 12'h000 , 12'h000 , 12'h000 },\n",
            "{ 12'h000 , 12'h000 , 12'h000 , 12'h000 , 12'h000 , 12'h000 , 12'h000 , 12'h000 , 12'h000 , 12'h000 , 12'h000 , 12'h000 , 12'h000 , 12'h000 , 12'h000 , 12'h000 , 12'h000 , 12'h000 , 12'h000 , 12'h000 , 12'h000 , 12'h000 , 12'h000 , 12'h000 , 12'h000 , 12'h000 , 12'h000 , 12'h000 , 12'h000 , 12'h000 , 12'h000 , 12'h000 },\n",
            "{ 12'h000 , 12'h000 , 12'h000 , 12'h000 , 12'h000 , 12'h000 , 12'h000 , 12'h000 , 12'h000 , 12'h000 , 12'h000 , 12'h000 , 12'h000 , 12'h000 , 12'h251 , 12'h4a3 , 12'h4a3 , 12'h251 , 12'h000 , 12'h000 , 12'h000 , 12'h000 , 12'h000 , 12'h000 , 12'h000 , 12'h000 , 12'h000 , 12'h000 , 12'h000 , 12'h000 , 12'h000 , 12'h000 },\n",
            "{ 12'h000 , 12'h000 , 12'h000 , 12'h000 , 12'h000 , 12'h000 , 12'h000 , 12'h000 , 12'h000 , 12'h000 , 12'h000 , 12'h382 , 12'h4a3 , 12'h4a3 , 12'h4a3 , 12'h4a3 , 12'h4a3 , 12'h4a3 , 12'h4a3 , 12'h4a3 , 12'h372 , 12'h000 , 12'h000 , 12'h000 , 12'h000 , 12'h000 , 12'h000 , 12'h000 , 12'h000 , 12'h000 , 12'h000 , 12'h000 },\n",
            "{ 12'h000 , 12'h000 , 12'h000 , 12'h000 , 12'h000 , 12'h000 , 12'h000 , 12'h000 , 12'h000 , 12'h000 , 12'h4a3 , 12'h4a3 , 12'h4a3 , 12'h4a3 , 12'h4a3 , 12'h4a3 , 12'h4a3 , 12'h4a3 , 12'h4a3 , 12'h4a3 , 12'h4a3 , 12'h4a3 , 12'h000 , 12'h000 , 12'h000 , 12'h000 , 12'h000 , 12'h000 , 12'h000 , 12'h000 , 12'h000 , 12'h000 },\n",
            "{ 12'h000 , 12'h000 , 12'h000 , 12'h000 , 12'h000 , 12'h000 , 12'h000 , 12'h000 , 12'h000 , 12'h4a3 , 12'h4a3 , 12'h4a3 , 12'h4a3 , 12'h4a3 , 12'h4a3 , 12'h4a3 , 12'h4a3 , 12'h4a3 , 12'h4a3 , 12'h4a3 , 12'h4a3 , 12'h4a3 , 12'h4a3 , 12'h000 , 12'h000 , 12'h000 , 12'h000 , 12'h000 , 12'h000 , 12'h000 , 12'h000 , 12'h000 },\n",
            "{ 12'h000 , 12'h000 , 12'h000 , 12'h000 , 12'h000 , 12'h000 , 12'h000 , 12'h000 , 12'h4a3 , 12'h4a3 , 12'h4a3 , 12'h4a3 , 12'h4a3 , 12'h4a3 , 12'h4a3 , 12'h4a3 , 12'h4a3 , 12'h4a3 , 12'h4a3 , 12'h4a3 , 12'h4a3 , 12'h4a3 , 12'h4a3 , 12'h4a3 , 12'h000 , 12'h000 , 12'h000 , 12'h000 , 12'h000 , 12'h000 , 12'h000 , 12'h000 },\n",
            "{ 12'h000 , 12'h000 , 12'h000 , 12'h000 , 12'h000 , 12'h000 , 12'h000 , 12'h382 , 12'h4a3 , 12'h4a3 , 12'h4a3 , 12'h4a3 , 12'h4a3 , 12'h4a3 , 12'h4a3 , 12'h4a3 , 12'h4a3 , 12'h4a3 , 12'h4a3 , 12'h4a3 , 12'h4a3 , 12'h4a3 , 12'h4a3 , 12'h4a3 , 12'h372 , 12'h000 , 12'h000 , 12'h000 , 12'h000 , 12'h000 , 12'h000 , 12'h000 },\n",
            "{ 12'h000 , 12'h000 , 12'h000 , 12'h000 , 12'h000 , 12'h000 , 12'h000 , 12'h4a3 , 12'h4a3 , 12'h4a3 , 12'h4a3 , 12'h4a3 , 12'h4a3 , 12'h4a3 , 12'h4a3 , 12'h4a3 , 12'h4a3 , 12'h4a3 , 12'h4a3 , 12'h4a3 , 12'h4a3 , 12'h4a3 , 12'h4a3 , 12'h4a3 , 12'h4a3 , 12'h000 , 12'h000 , 12'h000 , 12'h000 , 12'h000 , 12'h000 , 12'h000 },\n",
            "{ 12'h000 , 12'h000 , 12'h000 , 12'h000 , 12'h000 , 12'h000 , 12'h000 , 12'h4a3 , 12'h4a3 , 12'h4a3 , 12'h4a3 , 12'h4a3 , 12'h4a3 , 12'h4a3 , 12'h4a3 , 12'h4a3 , 12'h4a3 , 12'h4a3 , 12'h4a3 , 12'h4a3 , 12'h4a3 , 12'h4a3 , 12'h4a3 , 12'h4a3 , 12'h4a3 , 12'h000 , 12'h000 , 12'h000 , 12'h000 , 12'h000 , 12'h000 , 12'h000 },\n",
            "{ 12'h000 , 12'h000 , 12'h000 , 12'h000 , 12'h000 , 12'h000 , 12'h251 , 12'h4a3 , 12'h4a3 , 12'h4a3 , 12'h4a3 , 12'h4a3 , 12'h4a3 , 12'h4a3 , 12'h4a3 , 12'h4a3 , 12'h4a3 , 12'h4a3 , 12'h4a3 , 12'h4a3 , 12'h4a3 , 12'h4a3 , 12'h4a3 , 12'h4a3 , 12'h4a3 , 12'h251 , 12'h000 , 12'h000 , 12'h000 , 12'h000 , 12'h000 , 12'h000 },\n",
            "{ 12'h000 , 12'h000 , 12'h000 , 12'h000 , 12'h000 , 12'h000 , 12'h4a3 , 12'h4a3 , 12'h4a3 , 12'h4a3 , 12'h4a3 , 12'h4a3 , 12'h4a3 , 12'h4a3 , 12'h4a3 , 12'h4a3 , 12'h4a3 , 12'h4a3 , 12'h4a3 , 12'h4a3 , 12'h4a3 , 12'h4a3 , 12'h4a3 , 12'h4a3 , 12'h4a3 , 12'h4a3 , 12'h000 , 12'h000 , 12'h000 , 12'h000 , 12'h000 , 12'h000 },\n",
            "{ 12'h000 , 12'h000 , 12'h000 , 12'h000 , 12'h000 , 12'h000 , 12'h4a3 , 12'h4a3 , 12'h4a3 , 12'h4a3 , 12'h4a3 , 12'h4a3 , 12'h4a3 , 12'h4a3 , 12'h4a3 , 12'h4a3 , 12'h4a3 , 12'h4a3 , 12'h4a3 , 12'h4a3 , 12'h4a3 , 12'h4a3 , 12'h4a3 , 12'h4a3 , 12'h4a3 , 12'h4a3 , 12'h000 , 12'h000 , 12'h000 , 12'h000 , 12'h000 , 12'h000 },\n",
            "{ 12'h000 , 12'h000 , 12'h000 , 12'h000 , 12'h000 , 12'h000 , 12'h251 , 12'h4a3 , 12'h4a3 , 12'h4a3 , 12'h4a3 , 12'h4a3 , 12'h4a3 , 12'h4a3 , 12'h4a3 , 12'h4a3 , 12'h4a3 , 12'h4a3 , 12'h4a3 , 12'h4a3 , 12'h4a3 , 12'h4a3 , 12'h4a3 , 12'h4a3 , 12'h4a3 , 12'h251 , 12'h000 , 12'h000 , 12'h000 , 12'h000 , 12'h000 , 12'h000 },\n",
            "{ 12'h000 , 12'h000 , 12'h000 , 12'h000 , 12'h000 , 12'h000 , 12'h000 , 12'h4a3 , 12'h4a3 , 12'h4a3 , 12'h4a3 , 12'h4a3 , 12'h4a3 , 12'h4a3 , 12'h4a3 , 12'h4a3 , 12'h4a3 , 12'h4a3 , 12'h4a3 , 12'h4a3 , 12'h4a3 , 12'h4a3 , 12'h4a3 , 12'h4a3 , 12'h4a3 , 12'h000 , 12'h000 , 12'h000 , 12'h000 , 12'h000 , 12'h000 , 12'h000 },\n",
            "{ 12'h000 , 12'h000 , 12'h000 , 12'h000 , 12'h000 , 12'h000 , 12'h000 , 12'h4a3 , 12'h4a3 , 12'h4a3 , 12'h4a3 , 12'h4a3 , 12'h4a3 , 12'h4a3 , 12'h4a3 , 12'h4a3 , 12'h4a3 , 12'h4a3 , 12'h4a3 , 12'h4a3 , 12'h4a3 , 12'h4a3 , 12'h4a3 , 12'h4a3 , 12'h4a3 , 12'h000 , 12'h000 , 12'h000 , 12'h000 , 12'h000 , 12'h000 , 12'h000 },\n",
            "{ 12'h000 , 12'h000 , 12'h000 , 12'h000 , 12'h000 , 12'h000 , 12'h000 , 12'h372 , 12'h4a3 , 12'h4a3 , 12'h4a3 , 12'h4a3 , 12'h4a3 , 12'h4a3 , 12'h4a3 , 12'h4a3 , 12'h4a3 , 12'h4a3 , 12'h4a3 , 12'h4a3 , 12'h4a3 , 12'h4a3 , 12'h4a3 , 12'h4a3 , 12'h382 , 12'h000 , 12'h000 , 12'h000 , 12'h000 , 12'h000 , 12'h000 , 12'h000 },\n",
            "{ 12'h000 , 12'h000 , 12'h000 , 12'h000 , 12'h000 , 12'h000 , 12'h000 , 12'h000 , 12'h4a3 , 12'h4a3 , 12'h4a3 , 12'h4a3 , 12'h4a3 , 12'h4a3 , 12'h4a3 , 12'h4a3 , 12'h4a3 , 12'h4a3 , 12'h4a3 , 12'h4a3 , 12'h4a3 , 12'h4a3 , 12'h4a3 , 12'h4a3 , 12'h000 , 12'h000 , 12'h000 , 12'h000 , 12'h000 , 12'h000 , 12'h000 , 12'h000 },\n",
            "{ 12'h000 , 12'h000 , 12'h000 , 12'h000 , 12'h000 , 12'h000 , 12'h000 , 12'h000 , 12'h000 , 12'h4a3 , 12'h4a3 , 12'h4a3 , 12'h4a3 , 12'h4a3 , 12'h4a3 , 12'h4a3 , 12'h4a3 , 12'h4a3 , 12'h4a3 , 12'h4a3 , 12'h4a3 , 12'h4a3 , 12'h4a3 , 12'h000 , 12'h000 , 12'h000 , 12'h000 , 12'h000 , 12'h000 , 12'h000 , 12'h000 , 12'h000 },\n",
            "{ 12'h000 , 12'h000 , 12'h000 , 12'h000 , 12'h000 , 12'h000 , 12'h000 , 12'h000 , 12'h000 , 12'h000 , 12'h4a3 , 12'h4a3 , 12'h4a3 , 12'h4a3 , 12'h4a3 , 12'h4a3 , 12'h4a3 , 12'h4a3 , 12'h4a3 , 12'h4a3 , 12'h4a3 , 12'h4a3 , 12'h000 , 12'h000 , 12'h000 , 12'h000 , 12'h000 , 12'h000 , 12'h000 , 12'h000 , 12'h000 , 12'h000 },\n",
            "{ 12'h000 , 12'h000 , 12'h000 , 12'h000 , 12'h000 , 12'h000 , 12'h000 , 12'h000 , 12'h000 , 12'h000 , 12'h000 , 12'h372 , 12'h4a3 , 12'h4a3 , 12'h4a3 , 12'h4a3 , 12'h4a3 , 12'h4a3 , 12'h4a3 , 12'h4a3 , 12'h372 , 12'h000 , 12'h000 , 12'h000 , 12'h000 , 12'h000 , 12'h000 , 12'h000 , 12'h000 , 12'h000 , 12'h000 , 12'h000 },\n",
            "{ 12'h000 , 12'h000 , 12'h000 , 12'h000 , 12'h000 , 12'h000 , 12'h000 , 12'h000 , 12'h000 , 12'h000 , 12'h000 , 12'h000 , 12'h000 , 12'h000 , 12'h251 , 12'h4a3 , 12'h4a3 , 12'h251 , 12'h000 , 12'h000 , 12'h000 , 12'h000 , 12'h000 , 12'h000 , 12'h000 , 12'h000 , 12'h000 , 12'h000 , 12'h000 , 12'h000 , 12'h000 , 12'h000 },\n",
            "{ 12'h000 , 12'h000 , 12'h000 , 12'h000 , 12'h000 , 12'h000 , 12'h000 , 12'h000 , 12'h000 , 12'h000 , 12'h000 , 12'h000 , 12'h000 , 12'h000 , 12'h000 , 12'h000 , 12'h000 , 12'h000 , 12'h000 , 12'h000 , 12'h000 , 12'h000 , 12'h000 , 12'h000 , 12'h000 , 12'h000 , 12'h000 , 12'h000 , 12'h000 , 12'h000 , 12'h000 , 12'h000 },\n",
            "{ 12'h000 , 12'h000 , 12'h000 , 12'h000 , 12'h000 , 12'h000 , 12'h000 , 12'h000 , 12'h000 , 12'h000 , 12'h000 , 12'h000 , 12'h000 , 12'h000 , 12'h000 , 12'h000 , 12'h000 , 12'h000 , 12'h000 , 12'h000 , 12'h000 , 12'h000 , 12'h000 , 12'h000 , 12'h000 , 12'h000 , 12'h000 , 12'h000 , 12'h000 , 12'h000 , 12'h000 , 12'h000 },\n",
            "{ 12'h000 , 12'h000 , 12'h000 , 12'h000 , 12'h000 , 12'h000 , 12'h000 , 12'h000 , 12'h000 , 12'h000 , 12'h000 , 12'h000 , 12'h000 , 12'h000 , 12'h000 , 12'h000 , 12'h000 , 12'h000 , 12'h000 , 12'h000 , 12'h000 , 12'h000 , 12'h000 , 12'h000 , 12'h000 , 12'h000 , 12'h000 , 12'h000 , 12'h000 , 12'h000 , 12'h000 , 12'h000 },\n",
            "{ 12'h000 , 12'h000 , 12'h000 , 12'h000 , 12'h000 , 12'h000 , 12'h000 , 12'h000 , 12'h000 , 12'h000 , 12'h000 , 12'h000 , 12'h000 , 12'h000 , 12'h000 , 12'h000 , 12'h000 , 12'h000 , 12'h000 , 12'h000 , 12'h000 , 12'h000 , 12'h000 , 12'h000 , 12'h000 , 12'h000 , 12'h000 , 12'h000 , 12'h000 , 12'h000 , 12'h000 , 12'h000 },\n",
            "{ 12'h000 , 12'h000 , 12'h000 , 12'h000 , 12'h000 , 12'h000 , 12'h000 , 12'h000 , 12'h000 , 12'h000 , 12'h000 , 12'h000 , 12'h000 , 12'h000 , 12'h000 , 12'h000 , 12'h000 , 12'h000 , 12'h000 , 12'h000 , 12'h000 , 12'h000 , 12'h000 , 12'h000 , 12'h000 , 12'h000 , 12'h000 , 12'h000 , 12'h000 , 12'h000 , 12'h000 , 12'h000 },\n",
            "{ 12'h000 , 12'h000 , 12'h000 , 12'h000 , 12'h000 , 12'h000 , 12'h000 , 12'h000 , 12'h000 , 12'h000 , 12'h000 , 12'h000 , 12'h000 , 12'h000 , 12'h000 , 12'h000 , 12'h000 , 12'h000 , 12'h000 , 12'h000 , 12'h000 , 12'h000 , 12'h000 , 12'h000 , 12'h000 , 12'h000 , 12'h000 , 12'h000 , 12'h000 , 12'h000 , 12'h000 , 12'h000 },\n",
            "};\n"
          ]
        }
      ],
      "source": [
        "import cv2\n",
        "import numpy as np\n",
        "from google.colab.patches import cv2_imshow\n",
        "import sys\n",
        "np.set_printoptions(threshold=sys.maxsize)\n",
        "np.set_printoptions(formatter={'int':hex})\n",
        "'''\n",
        "if len(sys.argv) != 5:\n",
        "    print(\"Error: required 4 arguments but provided %s arguments.\" % str(len(sys.argv) - 1))\n",
        "    print(\"Usage: python img2v.py OUT_MODE SIZE_X SIZE_Y IMAGE_FILENAME > OUT_FILENAME.v\" )\n",
        "    print(\"       OUT_MODE=0      For use in a case statement\" )\n",
        "    print(\"       OUT_MODE=1      For use in an initial block\" )\n",
        "    print(\"       SIZE_X, SIZE_Y  Image will be scaled to this size in pixels\" )\n",
        "    print(\"Example: python img2v.py 0 16 16 mario.jpg > rom.v\" )\n",
        "    quit()   '''\n",
        "\n",
        "IMAGE_FILENAME = \"/content/greendot.png\" # input image file name\n",
        "IMAGE_SHAPE = (int(32),int(32))\n",
        "MODE = 1\n",
        "\n",
        "def dec2hex(x, length):\n",
        "    # remove \"0b\" from string\n",
        "    tmp = hex(x)[2:]\n",
        "    # append leading 0s if four binary bits are not present\n",
        "    for i in range(0, length - len(tmp)):\n",
        "        tmp = \"0\" + tmp\n",
        "    return tmp\n",
        "img = cv2.imread(IMAGE_FILENAME)\n",
        "if img is None:\n",
        "    print(\"Error: %s cannot be read.\" % (IMAGE_FILENAME))\n",
        "    quit()\n",
        "# crop image to square\n",
        "# if height is greater than width, crop height same length as width\n",
        "if img.shape[0] > img.shape[1]:\n",
        "    midpoint = int(img.shape[0]/2)\n",
        "    left = midpoint-int(img.shape[1]/2)\n",
        "    right = midpoint+int(img.shape[1]/2)\n",
        "    img = img[left:right,:,:]\n",
        "# if width is greater than height, make width same length as height\n",
        "elif img.shape[1] > img.shape[0]:\n",
        "    midpoint = int(img.shape[1]/2)\n",
        "    left = midpoint-int(img.shape[0]/2)\n",
        "    right = midpoint+int(img.shape[0]/2)\n",
        "    img = img[:,left:right,:]\n",
        "# resize image to 32x32\n",
        "img = cv2.resize(img, IMAGE_SHAPE)\n",
        "grid = [[\"\"] * (IMAGE_SHAPE[0])] * (IMAGE_SHAPE[1])\n",
        "array = np.empty((IMAGE_SHAPE[0], IMAGE_SHAPE[1]), dtype=np.int16)\n",
        "for row in range(img.shape[0]):\n",
        "  for col in range(img.shape[1]):\n",
        "    num = 256*int(15*img[row][col][2]/255)+16*int(15*img[row][col][1]/255)+int(15*img[row][col][0]/255)\n",
        "    array[row][col] = num\n",
        "print(\"{\")\n",
        "for row in range(array.shape[0]):\n",
        "  print(\"{\",end=\" \")\n",
        "  for col in range(array.shape[1]):\n",
        "    if(col>0):\n",
        "      print(\",\",end=\" \")\n",
        "    print(\"12'h\"+dec2hex(array[row][col],3),end=\" \")\n",
        "  print(\"},\")\n",
        "print(\"};\")"
      ]
    },
    {
      "cell_type": "code",
      "source": [
        "cv2_imshow(img)"
      ],
      "metadata": {
        "colab": {
          "base_uri": "https://localhost:8080/",
          "height": 49
        },
        "id": "yzK2KYHtqAcK",
        "outputId": "a1abfd37-7104-433a-a6d4-04b3a1b8f7c5"
      },
      "execution_count": null,
      "outputs": [
        {
          "output_type": "display_data",
          "data": {
            "text/plain": [
              "<PIL.Image.Image image mode=RGB size=32x32>"
            ],
            "image/png": "[encoded data removed]",
            "image/jpeg": "[encoded data removed]"
          },
          "metadata": {}
        }
      ]
    }
  ]
}